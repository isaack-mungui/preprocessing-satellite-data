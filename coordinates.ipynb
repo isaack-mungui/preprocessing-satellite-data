{
 "cells": [
  {
   "cell_type": "code",
   "execution_count": 9,
   "id": "dramatic-breeding",
   "metadata": {},
   "outputs": [
    {
     "name": "stdout",
     "output_type": "stream",
     "text": [
      "var region = '[[7.4804,7.5478], [53.3612,7.5478], [7.4804,53.2932], [53.3612,53.2932]]';\n",
      "var rectangle = [7.4804,53.2932,53.3612,7.5478];\n"
     ]
    }
   ],
   "source": [
    "import math\n",
    "\n",
    "earth_radius = 6371.0\n",
    "degrees_to_radian = math.pi / 180.0\n",
    "radian_to_degrees = 180.0 / math.pi\n",
    "\n",
    "def change_in_latitude(kms):\n",
    "    # Given a distance to the north, return the change in latitude\n",
    "    \n",
    "    return (kms / earth_radius) * radian_to_degrees\n",
    "\n",
    "def change_in_longitude(latitude, kms):\n",
    "    # Given latitude and a distance to the west, return a change in longitude\n",
    "    \n",
    "    r = earth_radius * math.cos(latitude * degrees_to_radian)\n",
    "    return (kms / r) * radian_to_degrees\n",
    "\n",
    "def ten_km_square(latitude, longitude):\n",
    "    slat, nlat = (latitude + change_in_latitude(-3.75), latitude + change_in_latitude(3.75))\n",
    "    wlon = (longitude + change_in_longitude(latitude, -3.75))\n",
    "    elon = (longitude + change_in_longitude(latitude, 3.75))\n",
    "    return (nlat, slat, wlon, elon)\n",
    "\n",
    "def main(lon, lat):\n",
    "    nlat, wlon, slat, elon = ten_km_square(lat, lon)\n",
    "    \n",
    "    print(\"var region = '[[{:.4f},{:.4f}], [{:.4f},{:.4f}], [{:.4f},{:.4f}], [{:.4f},{:.4f}]]';\".format(wlon,nlat,elon,nlat,wlon,slat,elon,slat))\n",
    "    print(\"var rectangle = [{:.4f},{:.4f},{:.4f},{:.4f}];\".format(wlon,slat,elon,nlat))\n",
    "\n",
    "main(53.3272, 7.5141)"
   ]
  },
  {
   "cell_type": "code",
   "execution_count": null,
   "id": "reflected-aside",
   "metadata": {},
   "outputs": [],
   "source": [
    "\n"
   ]
  }
 ],
 "metadata": {
  "kernelspec": {
   "display_name": "Python 3",
   "language": "python",
   "name": "python3"
  },
  "language_info": {
   "codemirror_mode": {
    "name": "ipython",
    "version": 3
   },
   "file_extension": ".py",
   "mimetype": "text/x-python",
   "name": "python",
   "nbconvert_exporter": "python",
   "pygments_lexer": "ipython3",
   "version": "3.8.5"
  }
 },
 "nbformat": 4,
 "nbformat_minor": 5
}
